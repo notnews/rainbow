{
 "cells": [
  {
   "cell_type": "code",
   "execution_count": 2,
   "id": "5d9fdc3c-4b89-4019-b85d-a2d825b17f8d",
   "metadata": {},
   "outputs": [],
   "source": [
    "import pandas as pd\n",
    "\n",
    "import spacy\n",
    "from spacy import displacy\n",
    "\n",
    "from tqdm import tqdm\n",
    "tqdm.pandas()"
   ]
  },
  {
   "cell_type": "code",
   "execution_count": 3,
   "id": "451a92bb-fd8a-47f9-a17e-6df29827bd77",
   "metadata": {},
   "outputs": [],
   "source": [
    "nlp = spacy.load(\"en_core_web_lg\")"
   ]
  },
  {
   "cell_type": "code",
   "execution_count": 4,
   "id": "1c6a57be-1cf4-4b18-b29d-e2eb9a41e10a",
   "metadata": {},
   "outputs": [],
   "source": [
    "articles = !ls -ltr *_articles.csv | awk '{print $9}'"
   ]
  },
  {
   "cell_type": "code",
   "execution_count": 5,
   "id": "56c5ff85-17cc-456d-87a6-01ddcc8d3d56",
   "metadata": {},
   "outputs": [
    {
     "data": {
      "text/plain": [
       "['cnn_articles.csv',\n",
       " 'abc_articles.csv',\n",
       " 'cbs_articles.csv',\n",
       " 'nbc_articles.csv',\n",
       " 'npr_articles.csv',\n",
       " 'nyt_articles.csv',\n",
       " 'usat_articles.csv',\n",
       " 'wapo_articles.csv',\n",
       " 'politico_articles.csv',\n",
       " 'propub_articles.csv',\n",
       " 'lat_articles.csv']"
      ]
     },
     "execution_count": 5,
     "metadata": {},
     "output_type": "execute_result"
    }
   ],
   "source": [
    "articles"
   ]
  },
  {
   "cell_type": "markdown",
   "id": "4f7e7b52-9cce-4193-a81d-eac7bd831134",
   "metadata": {},
   "source": [
    "## Apply NER on all the articles"
   ]
  },
  {
   "cell_type": "code",
   "execution_count": 6,
   "id": "fa46fbde-8863-4245-b8c9-72c5d839414d",
   "metadata": {},
   "outputs": [],
   "source": [
    "def get_names(row):\n",
    "    full_names = set()\n",
    "    try:\n",
    "        for ent in nlp(row).ents:\n",
    "            # check if ent is a full name\n",
    "            if ent.label_ == 'PERSON' and len(ent.text.split()) > 1:\n",
    "                full_names.add(ent.text)\n",
    "    except:\n",
    "        pass\n",
    "    return list(full_names)\n",
    "        \n",
    "\n",
    "def get_names_from_articles(file):\n",
    "    df = pd.read_csv(file)\n",
    "    print(f\"Applying NER to get names for {file}\")\n",
    "    df['names_in_article'] = df['text'].progress_apply(lambda x: get_names(x))\n",
    "    print(f\"writing to csv for {file}\")\n",
    "    df[['title','authors','names_in_article']].to_csv(f\"{file.split('.')[0]}_w_names.csv\",index=False)"
   ]
  },
  {
   "cell_type": "code",
   "execution_count": 7,
   "id": "c4576213-3b63-4775-80e6-c06be9df8556",
   "metadata": {},
   "outputs": [
    {
     "name": "stdout",
     "output_type": "stream",
     "text": [
      "Applying NER to get names for cnn_articles.csv\n"
     ]
    },
    {
     "name": "stderr",
     "output_type": "stream",
     "text": [
      "100%|██████████| 32958/32958 [1:11:46<00:00,  7.65it/s]  \n"
     ]
    },
    {
     "name": "stdout",
     "output_type": "stream",
     "text": [
      "writing to csv for cnn_articles.csv\n",
      "Applying NER to get names for abc_articles.csv\n"
     ]
    },
    {
     "name": "stderr",
     "output_type": "stream",
     "text": [
      "100%|██████████| 62738/62738 [14:59<00:00, 69.75it/s]  \n"
     ]
    },
    {
     "name": "stdout",
     "output_type": "stream",
     "text": [
      "writing to csv for abc_articles.csv\n",
      "Applying NER to get names for cbs_articles.csv\n"
     ]
    },
    {
     "name": "stderr",
     "output_type": "stream",
     "text": [
      "100%|██████████| 37907/37907 [1:09:01<00:00,  9.15it/s]\n"
     ]
    },
    {
     "name": "stdout",
     "output_type": "stream",
     "text": [
      "writing to csv for cbs_articles.csv\n",
      "Applying NER to get names for nbc_articles.csv\n"
     ]
    },
    {
     "name": "stderr",
     "output_type": "stream",
     "text": [
      "100%|██████████| 17968/17968 [33:22<00:00,  8.97it/s]  \n"
     ]
    },
    {
     "name": "stdout",
     "output_type": "stream",
     "text": [
      "writing to csv for nbc_articles.csv\n",
      "Applying NER to get names for npr_articles.csv\n"
     ]
    },
    {
     "name": "stderr",
     "output_type": "stream",
     "text": [
      "100%|██████████| 15108/15108 [46:31<00:00,  5.41it/s] \n"
     ]
    },
    {
     "name": "stdout",
     "output_type": "stream",
     "text": [
      "writing to csv for npr_articles.csv\n",
      "Applying NER to get names for nyt_articles.csv\n"
     ]
    },
    {
     "name": "stderr",
     "output_type": "stream",
     "text": [
      "100%|██████████| 26738/26738 [33:34<00:00, 13.27it/s]  \n"
     ]
    },
    {
     "name": "stdout",
     "output_type": "stream",
     "text": [
      "writing to csv for nyt_articles.csv\n",
      "Applying NER to get names for usat_articles.csv\n"
     ]
    },
    {
     "name": "stderr",
     "output_type": "stream",
     "text": [
      "100%|██████████| 40637/40637 [1:55:25<00:00,  5.87it/s]  \n"
     ]
    },
    {
     "name": "stdout",
     "output_type": "stream",
     "text": [
      "writing to csv for usat_articles.csv\n",
      "Applying NER to get names for wapo_articles.csv\n"
     ]
    },
    {
     "name": "stderr",
     "output_type": "stream",
     "text": [
      "100%|██████████| 33764/33764 [1:27:46<00:00,  6.41it/s]  \n"
     ]
    },
    {
     "name": "stdout",
     "output_type": "stream",
     "text": [
      "writing to csv for wapo_articles.csv\n",
      "Applying NER to get names for politico_articles.csv\n"
     ]
    },
    {
     "name": "stderr",
     "output_type": "stream",
     "text": [
      "100%|██████████| 2456/2456 [05:24<00:00,  7.57it/s]\n"
     ]
    },
    {
     "name": "stdout",
     "output_type": "stream",
     "text": [
      "writing to csv for politico_articles.csv\n",
      "Applying NER to get names for propub_articles.csv\n"
     ]
    },
    {
     "name": "stderr",
     "output_type": "stream",
     "text": [
      "100%|██████████| 559/559 [04:23<00:00,  2.12it/s]\n"
     ]
    },
    {
     "name": "stdout",
     "output_type": "stream",
     "text": [
      "writing to csv for propub_articles.csv\n",
      "Applying NER to get names for lat_articles.csv\n"
     ]
    },
    {
     "name": "stderr",
     "output_type": "stream",
     "text": [
      "100%|██████████| 19510/19510 [59:53<00:00,  5.43it/s]  \n"
     ]
    },
    {
     "name": "stdout",
     "output_type": "stream",
     "text": [
      "writing to csv for lat_articles.csv\n"
     ]
    }
   ],
   "source": [
    "for a in articles:\n",
    "    get_names_from_articles(a)"
   ]
  },
  {
   "cell_type": "markdown",
   "id": "2de652a0-9cf0-48e8-894b-b4f79d7dc84e",
   "metadata": {},
   "source": [
    "## Save all the author names"
   ]
  },
  {
   "cell_type": "code",
   "execution_count": 44,
   "id": "873a4c32-7606-449b-b840-7ba00c48a350",
   "metadata": {},
   "outputs": [],
   "source": [
    "def get_name(text):\n",
    "    name = ''\n",
    "    doc = nlp(text)\n",
    "    for ent in doc.ents:\n",
    "        if ent.label_ == 'PERSON' and len(ent.text.split()) > 1:\n",
    "            name = ent.text\n",
    "    return name"
   ]
  },
  {
   "cell_type": "code",
   "execution_count": 54,
   "id": "15894ca0-6f9e-4b99-adff-0b1ade272609",
   "metadata": {},
   "outputs": [],
   "source": [
    "def save_authors(file):\n",
    "    df = pd.read_csv(file)\n",
    "    print(f\"Processing {file}\")\n",
    "    channel = file.split(\"_\")[0]\n",
    "    merged_df = pd.DataFrame({'full_name': ','.join(df['authors'].dropna()).split(\",\")})\n",
    "    merged_df.drop_duplicates(inplace=True)\n",
    "    merged_df['full_name'] = merged_df['full_name'].str.replace(r'/.*', '', regex=True)\n",
    "    merged_df['full_name'] = merged_df['full_name'].str.replace(r'\\n.*', '', regex=True)\n",
    "    merged_df['full_name'] = merged_df['full_name'].str.replace(\"[^a-zA-Z' -]\", '', regex=True)\n",
    "    merged_df = merged_df.drop(merged_df[merged_df['full_name'].str.len() < 2].index)\n",
    "    merged_df['full_name'] = merged_df['full_name'].progress_apply(lambda x: get_name(x))\n",
    "    print(f\"Writing author names for {channel}\")\n",
    "    merged_df.dropna(inplace=True)\n",
    "    merged_df.drop_duplicates(inplace=True)\n",
    "    merged_df.to_csv(f'{channel}_author_names.csv',index=False)"
   ]
  },
  {
   "cell_type": "code",
   "execution_count": 26,
   "id": "08793540-7482-4676-865a-b826d5c57f61",
   "metadata": {},
   "outputs": [],
   "source": [
    "ner_results = !ls -ltr *_w_names.csv | awk '{print $9}'"
   ]
  },
  {
   "cell_type": "code",
   "execution_count": 27,
   "id": "2e1ec15e-e3e2-4c36-9e72-e2e641d1ab2a",
   "metadata": {},
   "outputs": [
    {
     "data": {
      "text/plain": [
       "['cnn_articles_w_names.csv',\n",
       " 'abc_articles_w_names.csv',\n",
       " 'cbs_articles_w_names.csv',\n",
       " 'nbc_articles_w_names.csv',\n",
       " 'npr_articles_w_names.csv',\n",
       " 'nyt_articles_w_names.csv',\n",
       " 'usat_articles_w_names.csv',\n",
       " 'wapo_articles_w_names.csv',\n",
       " 'politico_articles_w_names.csv',\n",
       " 'propub_articles_w_names.csv',\n",
       " 'lat_articles_w_names.csv']"
      ]
     },
     "execution_count": 27,
     "metadata": {},
     "output_type": "execute_result"
    }
   ],
   "source": [
    "ner_results"
   ]
  },
  {
   "cell_type": "code",
   "execution_count": 55,
   "id": "d290a66a-7ac5-4e2d-ae52-adf6dd734f2a",
   "metadata": {},
   "outputs": [
    {
     "name": "stdout",
     "output_type": "stream",
     "text": [
      "Processing cnn_articles_w_names.csv\n"
     ]
    },
    {
     "name": "stderr",
     "output_type": "stream",
     "text": [
      "100%|██████████| 9080/9080 [01:14<00:00, 122.50it/s]\n"
     ]
    },
    {
     "name": "stdout",
     "output_type": "stream",
     "text": [
      "Writing author names for cnn\n",
      "Processing abc_articles_w_names.csv\n"
     ]
    },
    {
     "name": "stderr",
     "output_type": "stream",
     "text": [
      "100%|██████████| 27/27 [00:00<00:00, 115.85it/s]\n"
     ]
    },
    {
     "name": "stdout",
     "output_type": "stream",
     "text": [
      "Writing author names for abc\n",
      "Processing cbs_articles_w_names.csv\n"
     ]
    },
    {
     "name": "stderr",
     "output_type": "stream",
     "text": [
      "100%|██████████| 1285/1285 [00:15<00:00, 83.23it/s] \n"
     ]
    },
    {
     "name": "stdout",
     "output_type": "stream",
     "text": [
      "Writing author names for cbs\n",
      "Processing nbc_articles_w_names.csv\n"
     ]
    },
    {
     "name": "stderr",
     "output_type": "stream",
     "text": [
      "100%|██████████| 3246/3246 [00:41<00:00, 77.54it/s] \n"
     ]
    },
    {
     "name": "stdout",
     "output_type": "stream",
     "text": [
      "Writing author names for nbc\n",
      "Processing npr_articles_w_names.csv\n"
     ]
    },
    {
     "name": "stderr",
     "output_type": "stream",
     "text": [
      "100%|██████████| 4375/4375 [00:33<00:00, 128.80it/s]\n"
     ]
    },
    {
     "name": "stdout",
     "output_type": "stream",
     "text": [
      "Writing author names for npr\n",
      "Processing nyt_articles_w_names.csv\n"
     ]
    },
    {
     "name": "stderr",
     "output_type": "stream",
     "text": [
      "100%|██████████| 4637/4637 [00:41<00:00, 110.79it/s]\n"
     ]
    },
    {
     "name": "stdout",
     "output_type": "stream",
     "text": [
      "Writing author names for nyt\n",
      "Processing usat_articles_w_names.csv\n"
     ]
    },
    {
     "name": "stderr",
     "output_type": "stream",
     "text": [
      "100%|██████████| 2533/2533 [00:20<00:00, 123.59it/s]\n"
     ]
    },
    {
     "name": "stdout",
     "output_type": "stream",
     "text": [
      "Writing author names for usat\n",
      "Processing wapo_articles_w_names.csv\n"
     ]
    },
    {
     "name": "stderr",
     "output_type": "stream",
     "text": [
      "100%|██████████| 3748/3748 [00:32<00:00, 116.55it/s]\n"
     ]
    },
    {
     "name": "stdout",
     "output_type": "stream",
     "text": [
      "Writing author names for wapo\n",
      "Processing politico_articles_w_names.csv\n"
     ]
    },
    {
     "name": "stderr",
     "output_type": "stream",
     "text": [
      "100%|██████████| 171/171 [00:01<00:00, 87.44it/s]\n"
     ]
    },
    {
     "name": "stdout",
     "output_type": "stream",
     "text": [
      "Writing author names for politico\n",
      "Processing propub_articles_w_names.csv\n"
     ]
    },
    {
     "name": "stderr",
     "output_type": "stream",
     "text": [
      "100%|██████████| 608/608 [00:04<00:00, 121.85it/s]\n"
     ]
    },
    {
     "name": "stdout",
     "output_type": "stream",
     "text": [
      "Writing author names for propub\n",
      "Processing lat_articles_w_names.csv\n"
     ]
    },
    {
     "name": "stderr",
     "output_type": "stream",
     "text": [
      "100%|██████████| 2992/2992 [00:28<00:00, 106.57it/s]\n"
     ]
    },
    {
     "name": "stdout",
     "output_type": "stream",
     "text": [
      "Writing author names for lat\n"
     ]
    }
   ],
   "source": [
    "for r in ner_results:\n",
    "    save_authors(r)"
   ]
  },
  {
   "cell_type": "code",
   "execution_count": 56,
   "id": "45f22741-1127-4c63-a25a-976fb517bbf4",
   "metadata": {},
   "outputs": [],
   "source": [
    "authors_csv = !ls -ltr *_author_names.csv | awk '{print $9}'"
   ]
  },
  {
   "cell_type": "code",
   "execution_count": 57,
   "id": "c4a21903-459f-4106-9f28-76dff9ed74e0",
   "metadata": {},
   "outputs": [
    {
     "data": {
      "text/plain": [
       "['cnn_author_names.csv',\n",
       " 'abc_author_names.csv',\n",
       " 'cbs_author_names.csv',\n",
       " 'nbc_author_names.csv',\n",
       " 'npr_author_names.csv',\n",
       " 'nyt_author_names.csv',\n",
       " 'usat_author_names.csv',\n",
       " 'wapo_author_names.csv',\n",
       " 'politico_author_names.csv',\n",
       " 'propub_author_names.csv',\n",
       " 'lat_author_names.csv']"
      ]
     },
     "execution_count": 57,
     "metadata": {},
     "output_type": "execute_result"
    }
   ],
   "source": [
    "authors_csv"
   ]
  },
  {
   "cell_type": "code",
   "execution_count": 109,
   "id": "3b516a3a-377d-45f7-bc74-84b5c777035a",
   "metadata": {},
   "outputs": [],
   "source": [
    "def add_channel(file):\n",
    "    df = pd.read_csv(file)\n",
    "    df['channel'] = file.split(\"_\")[0]\n",
    "    return df\n",
    "\n",
    "def merge_all(files, to_file):\n",
    "    dataframes = [add_channel(file) for file in files]\n",
    "    merged_df = pd.concat(dataframes, ignore_index=True)\n",
    "    merged_df.to_csv(to_file, index=False)"
   ]
  },
  {
   "cell_type": "code",
   "execution_count": 110,
   "id": "ca53207a-e1f6-490b-b7f8-88a3c6e122f1",
   "metadata": {},
   "outputs": [],
   "source": [
    "merge_all(authors_csv,\"all_authors.csv\")"
   ]
  },
  {
   "cell_type": "markdown",
   "id": "6973146a-daa8-4b4d-90c3-770501d9ee49",
   "metadata": {},
   "source": [
    "## Save all names mentioned in articles by channel"
   ]
  },
  {
   "cell_type": "code",
   "execution_count": 106,
   "id": "c9343f3d-a5e0-495c-8a6e-906d31678aeb",
   "metadata": {},
   "outputs": [],
   "source": [
    "def save_mentioned_names(file):\n",
    "    df = pd.read_csv(file)\n",
    "    print(f\"Processing {file}\")\n",
    "    channel = file.split(\"_\")[0]\n",
    "    merged_df = pd.DataFrame({'full_name': ','.join(df['names_in_article'].dropna()).split(\",\")})\n",
    "    merged_df.drop_duplicates(inplace=True)\n",
    "    merged_df['full_name'] = merged_df['full_name'].str.replace(r'/.*', '', regex=True)\n",
    "    merged_df['full_name'] = merged_df['full_name'].str.replace(r'\\n.*', '', regex=True)\n",
    "    merged_df['full_name'] = merged_df['full_name'].str.replace(r\"^'|'$\", '', regex=True)\n",
    "    merged_df['full_name'] = merged_df['full_name'].str.replace(\"[^a-zA-Z' -]\", '', regex=True)\n",
    "    merged_df['full_name'] = merged_df['full_name'].str.strip()\n",
    "    merged_df['full_name'] = merged_df['full_name'].str.strip(\"'\")\n",
    "    merged_df = merged_df.drop(merged_df[merged_df['full_name'].str.len() < 2].index)\n",
    "    # merged_df['full_name'] = merged_df['full_name'].progress_apply(lambda x: get_name(x))\n",
    "    print(f\"Writing author names for {channel}\")\n",
    "    merged_df.dropna(inplace=True)\n",
    "    merged_df.drop_duplicates(inplace=True)\n",
    "    merged_df.to_csv(f'{channel}_mentioned_names.csv',index=False)"
   ]
  },
  {
   "cell_type": "code",
   "execution_count": 107,
   "id": "eb082f68-40ea-4e43-93f3-a77ef7e02407",
   "metadata": {},
   "outputs": [
    {
     "name": "stdout",
     "output_type": "stream",
     "text": [
      "Processing cnn_articles_w_names.csv\n",
      "Writing author names for cnn\n",
      "Processing abc_articles_w_names.csv\n",
      "Writing author names for abc\n",
      "Processing cbs_articles_w_names.csv\n",
      "Writing author names for cbs\n",
      "Processing nbc_articles_w_names.csv\n",
      "Writing author names for nbc\n",
      "Processing npr_articles_w_names.csv\n",
      "Writing author names for npr\n",
      "Processing nyt_articles_w_names.csv\n",
      "Writing author names for nyt\n",
      "Processing usat_articles_w_names.csv\n",
      "Writing author names for usat\n",
      "Processing wapo_articles_w_names.csv\n",
      "Writing author names for wapo\n",
      "Processing politico_articles_w_names.csv\n",
      "Writing author names for politico\n",
      "Processing propub_articles_w_names.csv\n",
      "Writing author names for propub\n",
      "Processing lat_articles_w_names.csv\n",
      "Writing author names for lat\n"
     ]
    }
   ],
   "source": [
    "for r in ner_results:\n",
    "    save_mentioned_names(r)"
   ]
  },
  {
   "cell_type": "code",
   "execution_count": 108,
   "id": "268538d9-a727-4551-bcfa-57cbac6519a6",
   "metadata": {},
   "outputs": [],
   "source": [
    "mentioned_csv = !ls -ltr *_mentioned_names.csv | awk '{print $9}'"
   ]
  },
  {
   "cell_type": "code",
   "execution_count": 111,
   "id": "6bf321ba-b49d-43a0-8437-4589b781408e",
   "metadata": {},
   "outputs": [
    {
     "data": {
      "text/plain": [
       "['cnn_mentioned_names.csv',\n",
       " 'abc_mentioned_names.csv',\n",
       " 'cbs_mentioned_names.csv',\n",
       " 'nbc_mentioned_names.csv',\n",
       " 'npr_mentioned_names.csv',\n",
       " 'nyt_mentioned_names.csv',\n",
       " 'usat_mentioned_names.csv',\n",
       " 'wapo_mentioned_names.csv',\n",
       " 'politico_mentioned_names.csv',\n",
       " 'propub_mentioned_names.csv',\n",
       " 'lat_mentioned_names.csv']"
      ]
     },
     "execution_count": 111,
     "metadata": {},
     "output_type": "execute_result"
    }
   ],
   "source": [
    "mentioned_csv"
   ]
  },
  {
   "cell_type": "code",
   "execution_count": 112,
   "id": "d76dac30-f89e-438c-b12a-133a21013545",
   "metadata": {},
   "outputs": [],
   "source": [
    "merge_all(mentioned_csv,\"all_mentioned_names.csv\")"
   ]
  },
  {
   "cell_type": "code",
   "execution_count": 113,
   "id": "f8d9c185-9800-409d-8540-c5d531a5a5a0",
   "metadata": {},
   "outputs": [
    {
     "name": "stdout",
     "output_type": "stream",
     "text": [
      "332K\tall_authors.csv\n",
      "9.3M\tall_mentioned_names.csv\n"
     ]
    }
   ],
   "source": [
    "!du -sh all_*.csv"
   ]
  },
  {
   "cell_type": "markdown",
   "id": "32796402-bf71-4f20-a1ef-4a4bb25646c3",
   "metadata": {},
   "source": [
    "## stats by channel"
   ]
  },
  {
   "cell_type": "code",
   "execution_count": 114,
   "id": "6ba8eefe-fdb8-4b3e-9cdb-f5c792f6f76c",
   "metadata": {},
   "outputs": [],
   "source": [
    "df = pd.read_csv(\"all_mentioned_names.csv\")"
   ]
  },
  {
   "cell_type": "code",
   "execution_count": 130,
   "id": "1ff5b8b0-b261-4b04-9c67-a011a016c5eb",
   "metadata": {},
   "outputs": [
    {
     "data": {
      "image/png": "[encoded data removed]",
      "text/plain": [
       "<Figure size 640x480 with 1 Axes>"
      ]
     },
     "metadata": {},
     "output_type": "display_data"
    }
   ],
   "source": [
    "df['channel'].value_counts().plot(kind='bar');"
   ]
  },
  {
   "cell_type": "code",
   "execution_count": 131,
   "id": "8c5d7fc5-fa28-4d83-b46e-4a09b81b1265",
   "metadata": {},
   "outputs": [],
   "source": [
    "df = pd.read_csv(\"all_authors.csv\")"
   ]
  },
  {
   "cell_type": "code",
   "execution_count": 132,
   "id": "12500943-0e1c-4a4f-a7ec-0b6ddc4a6015",
   "metadata": {},
   "outputs": [
    {
     "data": {
      "image/png": "[encoded data removed]",
      "text/plain": [
       "<Figure size 640x480 with 1 Axes>"
      ]
     },
     "metadata": {},
     "output_type": "display_data"
    }
   ],
   "source": [
    "df['channel'].value_counts().plot(kind='bar');"
   ]
  },
  {
   "cell_type": "code",
   "execution_count": null,
   "id": "6f548262-dd9e-4845-8d39-1eb7d1a8b18e",
   "metadata": {},
   "outputs": [],
   "source": []
  }
 ],
 "metadata": {
  "kernelspec": {
   "display_name": ".venv",
   "language": "python",
   "name": ".venv"
  },
  "language_info": {
   "codemirror_mode": {
    "name": "ipython",
    "version": 3
   },
   "file_extension": ".py",
   "mimetype": "text/x-python",
   "name": "python",
   "nbconvert_exporter": "python",
   "pygments_lexer": "ipython3",
   "version": "3.10.6"
  }
 },
 "nbformat": 4,
 "nbformat_minor": 5
}
